{
 "cells": [
  {
   "cell_type": "markdown",
   "metadata": {
    "tags": []
   },
   "source": [
    "# Lab | Data Structures "
   ]
  },
  {
   "cell_type": "code",
   "execution_count": 10,
   "metadata": {},
   "outputs": [
    {
     "name": "stdout",
     "output_type": "stream",
     "text": [
      "['t-shirt', 'mug', 'hat', 'book', 'keychain']\n"
     ]
    }
   ],
   "source": [
    "#define the list\n",
    "products = ['t-shirt', 'mug', 'hat', 'book', 'keychain']\n",
    "print(products)"
   ]
  },
  {
   "cell_type": "code",
   "execution_count": 11,
   "metadata": {},
   "outputs": [],
   "source": [
    "#create empty inventory and assign values\n",
    "inventory = {}\n",
    "\n",
    "for product in products :\n",
    "    amount = int(input(f\"Enter quantity for {product}: \"))\n",
    "    inventory[product] = amount"
   ]
  },
  {
   "cell_type": "code",
   "execution_count": 14,
   "metadata": {},
   "outputs": [
    {
     "name": "stdout",
     "output_type": "stream",
     "text": [
      "{'t-shirt': 4, 'mug': 5, 'hat': 4, 'book': 2, 'keychain': 1}\n"
     ]
    }
   ],
   "source": [
    "print(inventory)"
   ]
  },
  {
   "cell_type": "code",
   "execution_count": null,
   "metadata": {},
   "outputs": [
    {
     "name": "stdout",
     "output_type": "stream",
     "text": [
      "{'hat', 'mug', 'book'}\n"
     ]
    }
   ],
   "source": [
    "#creating an empty set\n",
    "customer_orders = set()\n",
    "\n",
    "#adding items to the set\n",
    "for x in range(3):\n",
    "    product = input(\"Enter a product to order: \")\n",
    "    customer_orders.add(product) \n",
    "\n",
    "print(customer_orders)\n"
   ]
  },
  {
   "cell_type": "code",
   "execution_count": 15,
   "metadata": {},
   "outputs": [
    {
     "name": "stdout",
     "output_type": "stream",
     "text": [
      "(3, 18.75)\n"
     ]
    }
   ],
   "source": [
    "#order statistics\n",
    "total_ordered = len(customer_orders)\n",
    "total_inventory = sum(inventory.values())\n",
    "percentage_ordered = (total_ordered / total_inventory) * 100\n",
    "\n",
    "order_status = (total_ordered, percentage_ordered)\n",
    "print(order_status)"
   ]
  },
  {
   "cell_type": "code",
   "execution_count": 16,
   "metadata": {},
   "outputs": [
    {
     "name": "stdout",
     "output_type": "stream",
     "text": [
      "Order Statistics:\n",
      "Total Products Ordered: 3\n",
      "Percentage of Products Ordered: 18.75%\n"
     ]
    }
   ],
   "source": [
    "print(\"Order Statistics:\")\n",
    "print(f\"Total Products Ordered: {total_ordered}\")\n",
    "print(f\"Percentage of Products Ordered: {percentage_ordered}%\")"
   ]
  },
  {
   "cell_type": "code",
   "execution_count": 18,
   "metadata": {},
   "outputs": [
    {
     "name": "stdout",
     "output_type": "stream",
     "text": [
      "Updated Inventory: {'t-shirt': 2, 'mug': 3, 'hat': 2, 'book': 0, 'keychain': -1}\n",
      "t-shirt: 2\n",
      "mug: 3\n",
      "hat: 2\n",
      "book: 0\n",
      "keychain: -1\n"
     ]
    }
   ],
   "source": [
    "#update the inventory\n",
    "for product in inventory:\n",
    "    inventory[product] -= 1\n",
    "\n",
    "print(f\"Updated Inventory: {inventory}\")\n",
    "\n",
    "print(f\"t-shirt: {inventory['t-shirt']}\")\n",
    "print(f\"mug: {inventory['mug']}\")\n",
    "print(f\"hat: {inventory['hat']}\")\n",
    "print(f\"book: {inventory['book']}\")\n",
    "print(f\"keychain: {inventory['keychain']}\")"
   ]
  },
  {
   "cell_type": "markdown",
   "metadata": {},
   "source": [
    "## Exercise: Managing Customer Orders\n",
    "\n",
    "As part of a business venture, you are starting an online store that sells various products. To ensure smooth operations, you need to develop a program that manages customer orders and inventory.\n",
    "\n",
    "Follow the steps below to complete the exercise:\n",
    "\n",
    "1. Define a list called `products` that contains the following items: \"t-shirt\", \"mug\", \"hat\", \"book\", \"keychain\".\n",
    "\n",
    "2. Create an empty dictionary called `inventory`.\n",
    "\n",
    "3. Ask the user to input the quantity of each product available in the inventory. Use the product names from the `products` list as keys in the `inventory` dictionary and assign the respective quantities as values.\n",
    "\n",
    "4. Create an empty set called `customer_orders`.\n",
    "\n",
    "5. Ask the user to input the name of three products that a customer wants to order (from those in the products list, meaning three products out of \"t-shirt\", \"mug\", \"hat\", \"book\" or \"keychain\". Add each product name to the `customer_orders` set.\n",
    "\n",
    "6. Print the products in the `customer_orders` set.\n",
    "\n",
    "7. Calculate the following order statistics:\n",
    "   - Total Products Ordered: The total number of products in the `customer_orders` set.\n",
    "   - Percentage of Products Ordered: The percentage of products ordered compared to the total available products.\n",
    "   \n",
    "   Store these statistics in a tuple called `order_status`.\n",
    "\n",
    "8. Print the order statistics using the following format:\n",
    "   ```\n",
    "   Order Statistics:\n",
    "   Total Products Ordered: <total_products_ordered>\n",
    "   Percentage of Products Ordered: <percentage_ordered>% \n",
    "   ```\n",
    "\n",
    "9. Update the inventory by subtracting 1 from the quantity of each product. Modify the `inventory` dictionary accordingly.\n",
    "\n",
    "10. Print the updated inventory, displaying the quantity of each product on separate lines.\n",
    "\n",
    "Solve the exercise by implementing the steps using the Python concepts of lists, dictionaries, sets, and basic input/output operations. "
   ]
  }
 ],
 "metadata": {
  "kernelspec": {
   "display_name": "base",
   "language": "python",
   "name": "python3"
  },
  "language_info": {
   "codemirror_mode": {
    "name": "ipython",
    "version": 3
   },
   "file_extension": ".py",
   "mimetype": "text/x-python",
   "name": "python",
   "nbconvert_exporter": "python",
   "pygments_lexer": "ipython3",
   "version": "3.12.7"
  }
 },
 "nbformat": 4,
 "nbformat_minor": 4
}
